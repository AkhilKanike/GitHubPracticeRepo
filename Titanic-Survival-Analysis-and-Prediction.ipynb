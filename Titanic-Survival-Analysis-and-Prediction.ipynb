{
 "cells": [
  {
   "cell_type": "markdown",
   "metadata": {},
   "source": [
    "I am so delighted to share my first kernel with the Kaggle community. I do this for my learning and to mingle myslef with the Data Science community.\n",
    "Going forward I'll look more into the problems and try to share my ideologies.\n",
    "Please ask questions and comment below in the comments section regarding the kernel. \n"
   ]
  },
  {
   "cell_type": "markdown",
   "metadata": {},
   "source": [
    "Instead of loading all the libraries at once, I'll import libraries when there is use. So that it can help people understand better."
   ]
  },
  {
   "cell_type": "markdown",
   "metadata": {},
   "source": [
    "I use pandas to import and work because it facilitates manipulation of data. It stores the data in dataframes, for easy load and maintenance."
   ]
  },
  {
   "cell_type": "code",
   "execution_count": null,
   "metadata": {},
   "outputs": [],
   "source": [
    "#importing pandas package\n",
    "\n",
    "import pandas as pd"
   ]
  },
  {
   "cell_type": "code",
   "execution_count": null,
   "metadata": {},
   "outputs": [],
   "source": [
    "##importing the datasets from local folder\n",
    "\n",
    "train_df=pd.read_csv('train.csv')\n",
    "test_df=pd.read_csv('test.csv')"
   ]
  },
  {
   "cell_type": "markdown",
   "metadata": {},
   "source": [
    "Let's look at the sample data from the train and test dataframes."
   ]
  },
  {
   "cell_type": "code",
   "execution_count": null,
   "metadata": {},
   "outputs": [],
   "source": [
    "#using head method from the pandas datafram package to read sample data.\n",
    "\n",
    "train_df.head()"
   ]
  },
  {
   "cell_type": "code",
   "execution_count": null,
   "metadata": {},
   "outputs": [],
   "source": [
    "test_df.head()"
   ]
  },
  {
   "cell_type": "markdown",
   "metadata": {},
   "source": [
    "From the data above it seems like few fields in the dataframes have NaN (Not a Number, similar to Null)\n",
    "To find out which fields have such values for certain rows, we use describe method from the same pandas package."
   ]
  },
  {
   "cell_type": "code",
   "execution_count": null,
   "metadata": {},
   "outputs": [],
   "source": [
    "train_df.describe()"
   ]
  },
  {
   "cell_type": "markdown",
   "metadata": {},
   "source": [
    "In the above result we can see total rows of Age is less when compared to others. Moreover describe only looked at Numerical fields excluding the categorical fields. With the option include we can involve categorical fields to our description"
   ]
  },
  {
   "cell_type": "code",
   "execution_count": null,
   "metadata": {},
   "outputs": [],
   "source": [
    "train_df.describe(include='all')"
   ]
  },
  {
   "cell_type": "code",
   "execution_count": null,
   "metadata": {},
   "outputs": [],
   "source": [
    "test_df.describe(include='all')"
   ]
  },
  {
   "cell_type": "markdown",
   "metadata": {},
   "source": [
    "Cabin, Embarked joins the filed Age, which have missing values.\n",
    "In addition, Cabin and Ticket field has some duplicate values.\n",
    "Some cabins might be shared by two or more people and some tickets might be couple tickets."
   ]
  },
  {
   "cell_type": "markdown",
   "metadata": {},
   "source": [
    "Now let's look at the different type of variables involved in this dataset"
   ]
  },
  {
   "cell_type": "markdown",
   "metadata": {},
   "source": [
    "1. Categorical : Sex, Cabin, Embarked\n",
    "\n",
    "2. Numerical : PassengerId, PClass, Age, SibSp. Parch, Fare, Survived\n",
    "\n",
    "3. Text : Name, Ticket"
   ]
  },
  {
   "cell_type": "markdown",
   "metadata": {},
   "source": [
    "Let's look at each variable closely and correlate with Survived Field, So that we can pick correct variables for the training purpose."
   ]
  },
  {
   "cell_type": "markdown",
   "metadata": {},
   "source": [
    "1. PassengerId : I don't think PassengerId doesn't have any role in predicting Survivial of a passanger.\n",
    "\n",
    "However let's see how Survival is scattered with PassengerId using matplotlib"
   ]
  },
  {
   "cell_type": "code",
   "execution_count": null,
   "metadata": {},
   "outputs": [],
   "source": [
    "import matplotlib.pyplot as plt\n",
    "import seaborn as sns\n",
    "sns.set()\n",
    "plt.scatter(train_df['PassengerId'],train_df['Survived'])\n",
    "\n",
    "plt.xlabel('PassengerId')\n",
    "plt.ylabel('Survival')\n",
    "plt.title('Relation between PassengerId and Survival')"
   ]
  },
  {
   "cell_type": "markdown",
   "metadata": {},
   "source": [
    "You can see that there is no pattern in the PassengerId and Survived, So we are eliminating PassengerId field from our training and test data."
   ]
  },
  {
   "cell_type": "markdown",
   "metadata": {},
   "source": [
    "#### PClass and Survived:"
   ]
  },
  {
   "cell_type": "markdown",
   "metadata": {},
   "source": [
    "PClass is a Ordinal type of Variable, represented Numerically.\n",
    "\n",
    "It defines the class of the passenger.\n",
    "\n",
    "Here in this data \n",
    "\n",
    "+ Pclass=1 --> UpperClass\n",
    "\n",
    "+ Pclass=2 --> MiddleClass\n",
    "\n",
    "+ Pclass=3 --> LowerClass"
   ]
  },
  {
   "cell_type": "markdown",
   "metadata": {},
   "source": [
    "Plotting Survived and Pclass"
   ]
  },
  {
   "cell_type": "markdown",
   "metadata": {},
   "source": [
    "Let's see how many people are there in each class"
   ]
  },
  {
   "cell_type": "code",
   "execution_count": null,
   "metadata": {},
   "outputs": [],
   "source": [
    "train_df['Pclass'].value_counts().sort_values()"
   ]
  },
  {
   "cell_type": "code",
   "execution_count": null,
   "metadata": {},
   "outputs": [],
   "source": [
    "pal={0: \"red\", 1: \"green\"}\n",
    "ax = sns.countplot(x = \"Pclass\", hue=\"Survived\", data = train_df, palette=pal)\n",
    "plt.title(\"Passenger class Distribution & Survived vs Not-survived\")\n",
    "plt.xlabel(\"Pclass\");\n",
    "plt.ylabel(\"Count of Passengers\")\n",
    "leg = ax.get_legend()\n",
    "leg.set_title(\"Passenger class\")\n",
    "legs = leg.texts\n",
    "legs[0].set_text(\"Not-Survived\")\n",
    "legs[1].set_text(\"Survived\")\n",
    "plt.show()"
   ]
  },
  {
   "cell_type": "code",
   "execution_count": null,
   "metadata": {},
   "outputs": [],
   "source": [
    "train_df[['Pclass', 'Survived']].groupby(['Pclass'], as_index=False).sum()"
   ]
  },
  {
   "cell_type": "markdown",
   "metadata": {},
   "source": [
    "From the data we can say that Most of the Class 3 people couldn't survive from the accident.\n",
    "\n",
    "+ 136 class 1 survived out of 216 ==> 62.9%\n",
    "\n",
    "+ 87  class 2 survived out of 184 ==> 47.2%\n",
    "\n",
    "+ 119 class 3 survived out of 491 ==> 24.2%"
   ]
  },
  {
   "cell_type": "markdown",
   "metadata": {},
   "source": [
    "#### Inference"
   ]
  },
  {
   "cell_type": "markdown",
   "metadata": {},
   "source": [
    "\n",
    "\n",
    "From here we can understand that Passenger class has a role to play\n",
    "\n",
    "The chances of survival depends on the class they are accomodated to.\n",
    "\n",
    "Better the class, better the chances of the survival."
   ]
  },
  {
   "cell_type": "markdown",
   "metadata": {},
   "source": [
    "## Name and Survived:"
   ]
  },
  {
   "cell_type": "markdown",
   "metadata": {},
   "source": [
    "Generally out of common sense, Death never looks at Name when an accident happens.\n",
    "\n",
    "Let's look at the data once before eliminating it from the train and test data frame."
   ]
  },
  {
   "cell_type": "code",
   "execution_count": null,
   "metadata": {},
   "outputs": [],
   "source": [
    "train_df['Name']"
   ]
  },
  {
   "cell_type": "markdown",
   "metadata": {},
   "source": [
    "-\n",
    "\n",
    "Wait a second, from the Names I think we could extract some thing.\n",
    "\n",
    "There is a title for the names \n",
    "\n",
    "Let's see whether we have this sort of Titles for all, through that we will try to fill missed Ages."
   ]
  },
  {
   "cell_type": "markdown",
   "metadata": {},
   "source": [
    "## Before that we Explore Age and Survived"
   ]
  },
  {
   "cell_type": "code",
   "execution_count": null,
   "metadata": {},
   "outputs": [],
   "source": [
    "\n",
    "g = sns.FacetGrid(train_df, col=\"Survived\", margin_titles=True)\n",
    "g.map(plt.hist, \"Age\", color=\"steelblue\", bins=10)"
   ]
  },
  {
   "cell_type": "markdown",
   "metadata": {},
   "source": [
    "From above graph we can say that People between 20 and 40 survived more compared to others.\n",
    "\n",
    "The survival rate of Passengers with age group greater than 70 is very minimal\n",
    "\n",
    "So try to make 4 groups of Ages\n",
    "+ 0 to 20\n",
    "+ 20 to 40\n",
    "+ 40 to 70\n",
    "+ 70 and above"
   ]
  },
  {
   "cell_type": "code",
   "execution_count": null,
   "metadata": {},
   "outputs": [],
   "source": [
    "grid = sns.FacetGrid(train_df, col='Survived', row='Pclass', height=2.2, aspect=1.6)\n",
    "grid.map(plt.hist, 'Age', alpha=.5, bins=20)\n",
    "grid.add_legend();"
   ]
  },
  {
   "cell_type": "markdown",
   "metadata": {},
   "source": [
    "Above we tried to observe, different class people, their ages and survival.\n",
    "\n",
    "Data says that, \n",
    "+ Among Class2 people, Children survived more.\n",
    "+ Class 3 people are much affected with the incident.\n",
    "\n"
   ]
  },
  {
   "cell_type": "markdown",
   "metadata": {},
   "source": [
    "## Gender vs Survival"
   ]
  },
  {
   "cell_type": "markdown",
   "metadata": {},
   "source": [
    "Before looking into the data, I believe that female are more likely to be survived. No Offence\n",
    "\n",
    "Let's see what happened incase of Titanic disaster."
   ]
  },
  {
   "cell_type": "code",
   "execution_count": null,
   "metadata": {},
   "outputs": [],
   "source": [
    "pal={0: \"red\", 1: \"green\"}\n",
    "ax = sns.countplot(x = \"Sex\", hue=\"Survived\", data = train_df, palette=pal)\n",
    "plt.title(\"Passenger Gender & Survived vs Not-survived\")\n",
    "plt.xlabel(\"Pclass\");\n",
    "plt.ylabel(\"Count of Passengers\")\n",
    "leg = ax.get_legend()\n",
    "leg.set_title(\"Survival\")\n",
    "legs = leg.texts\n",
    "legs[0].set_text(\"Not-Survived\")\n",
    "legs[1].set_text(\"Survived\")\n",
    "plt.show()"
   ]
  },
  {
   "cell_type": "code",
   "execution_count": null,
   "metadata": {},
   "outputs": [],
   "source": [
    "train_df[['Sex','Survived']].groupby(['Sex'],as_index=False).mean()"
   ]
  },
  {
   "cell_type": "code",
   "execution_count": null,
   "metadata": {},
   "outputs": [],
   "source": [
    "train_df['Sex'].value_counts()"
   ]
  },
  {
   "cell_type": "markdown",
   "metadata": {},
   "source": [
    "-\n",
    "\n",
    "223 females out of 314 => 74% --and-- 109 males out of 577 had survived => 19%."
   ]
  },
  {
   "cell_type": "markdown",
   "metadata": {},
   "source": [
    "Let's see hist of class and sex "
   ]
  },
  {
   "cell_type": "code",
   "execution_count": null,
   "metadata": {},
   "outputs": [],
   "source": [
    "\n",
    "g=sns.FacetGrid(train_df,col='Sex', row='Pclass')\n",
    "g.map(plt.hist, 'Survived')\n"
   ]
  },
  {
   "cell_type": "code",
   "execution_count": null,
   "metadata": {},
   "outputs": [],
   "source": [
    "#train_df.loc[(train_df['Sex']=='female') & (train_df['Pclass']==1) & (train_df['Survived']==0)]\n"
   ]
  },
  {
   "cell_type": "markdown",
   "metadata": {},
   "source": [
    "Here we can observe 2 things, \n",
    "+ If the passenger is male and of class3, he has very minimal chances of survival.\n",
    "+ Where as if the passenger is female and of class1 or class2, she has very high chances of survival comparative to males.\n",
    "\n",
    "Overall, More Females are survived from the incident corroborating my assumption :p"
   ]
  },
  {
   "cell_type": "markdown",
   "metadata": {},
   "source": [
    "## Survival and SibSp and Parch"
   ]
  },
  {
   "cell_type": "code",
   "execution_count": null,
   "metadata": {},
   "outputs": [],
   "source": [
    "train_df[['Survived','SibSp']].groupby(['SibSp'], as_index=False).mean().sort_values(by='Survived',ascending=False)"
   ]
  },
  {
   "cell_type": "code",
   "execution_count": null,
   "metadata": {},
   "outputs": [],
   "source": [
    "pal={0: \"red\", 1: \"green\"}\n",
    "ax = sns.countplot(x = \"SibSp\", hue=\"Survived\", data = train_df, palette=pal)\n",
    "plt.title(\"Sibsp & Survived vs Not-survived\")\n",
    "plt.xlabel(\"Count of Siblings and Spouses\");\n",
    "plt.ylabel(\"Count of Passengers\")\n",
    "leg = ax.get_legend()\n",
    "leg.set_title(\"Survival\")\n",
    "legs = leg.texts\n",
    "legs[0].set_text(\"Not-Survived\")\n",
    "legs[1].set_text(\"Survived\")\n",
    "plt.show()"
   ]
  },
  {
   "cell_type": "code",
   "execution_count": null,
   "metadata": {},
   "outputs": [],
   "source": [
    "train_df[['Survived','Parch']].groupby(['Parch'], as_index=False).mean().sort_values(by='Survived',ascending=False)"
   ]
  },
  {
   "cell_type": "code",
   "execution_count": null,
   "metadata": {},
   "outputs": [],
   "source": [
    "pal={0: \"red\", 1: \"green\"}\n",
    "ax = sns.countplot(x = \"Parch\", hue=\"Survived\", data = train_df, palette=pal)\n",
    "plt.title(\"Parch & Survived vs Not-survived\")\n",
    "plt.xlabel(\"Count of Parents and Children\");\n",
    "plt.ylabel(\"Count of Passengers\")\n",
    "leg = ax.get_legend()\n",
    "leg.set_title(\"Survival\")\n",
    "legs = leg.texts\n",
    "legs[0].set_text(\"Not-Survived\")\n",
    "legs[1].set_text(\"Survived\")\n",
    "plt.show()"
   ]
  },
  {
   "cell_type": "markdown",
   "metadata": {},
   "source": [
    "From above charts we can say that, If a person is alone, he is more prone lo live.\n",
    "\n",
    "So we will create one field from these two -- alone, not_alone"
   ]
  },
  {
   "cell_type": "code",
   "execution_count": null,
   "metadata": {},
   "outputs": [],
   "source": [
    "train_df['Total_Family_Members']=train_df['Parch']+train_df['SibSp']+1\n",
    "pal={0: \"red\", 1: \"green\"}\n",
    "ax = sns.countplot(x = \"Total_Family_Members\", hue=\"Survived\", data = train_df, palette=pal)\n",
    "plt.title(\"Family Members & Survived vs Not-survived\")\n",
    "plt.xlabel(\"Count of Family\");\n",
    "plt.ylabel(\"Count of Passengers\")\n",
    "leg = ax.get_legend()\n",
    "leg.set_title(\"Survival\")\n",
    "legs = leg.texts\n",
    "legs[0].set_text(\"Not-Survived\")\n",
    "legs[1].set_text(\"Survived\")\n",
    "plt.show()"
   ]
  },
  {
   "cell_type": "markdown",
   "metadata": {},
   "source": [
    "## Ticket and Survival"
   ]
  },
  {
   "cell_type": "markdown",
   "metadata": {},
   "source": [
    "I'm ignoring Ticket and Cabin, because there are many missing values in both training and test datasets."
   ]
  },
  {
   "cell_type": "markdown",
   "metadata": {},
   "source": [
    "## Fare and Survival"
   ]
  },
  {
   "cell_type": "code",
   "execution_count": null,
   "metadata": {},
   "outputs": [],
   "source": [
    "ax=sns.kdeplot(train_df.loc[(train_df['Survived']==0),'Fare'],shade=True,color='r', label='Not Survived')\n",
    "ax=sns.kdeplot(train_df.loc[(train_df['Survived']==1),'Fare'],shade=True,color='g', label ='Survived')\n",
    "plt.title('Fare vs Survival')\n",
    "plt.xlabel('Fare')\n",
    "plt.ylabel('Survival Density')\n",
    "#ax=sns.kdeplot(train.loc[(train['Survived'] == 0),'Fare'] \n",
    "#ax=sns.kdeplot(train_df.loc[(train_df['Survived']==0),'Age'])"
   ]
  },
  {
   "cell_type": "markdown",
   "metadata": {},
   "source": [
    "People who boarded the ship with less fare did not survive much, the desnsity plot says"
   ]
  },
  {
   "cell_type": "markdown",
   "metadata": {},
   "source": [
    "## Fare, Pclass and Survival"
   ]
  },
  {
   "cell_type": "code",
   "execution_count": null,
   "metadata": {},
   "outputs": [],
   "source": [
    "ax=sns.kdeplot(train_df.loc[(train_df['Survived']==0) & (train_df['Pclass']==1),'Fare'],shade=True,color='r', label='Class1')\n",
    "ax=sns.kdeplot(train_df.loc[(train_df['Survived']==0) & (train_df['Pclass']==2),'Fare'],shade=True,color='g', label='Class2')\n",
    "ax=sns.kdeplot(train_df.loc[(train_df['Survived']==0) & (train_df['Pclass']==3),'Fare'],shade=True,color='b', label='Class3')\n",
    "\n",
    "#ax=sns.kdeplot(train_df.loc[(train_df['Survived']==1),'Fare'],shade=True,color='g', label ='Survived')\n",
    "plt.title('Fare vs Survival')\n",
    "plt.xlabel('Fare')\n",
    "plt.ylabel('Survival Density')\n",
    "#ax=sns.kdeplot(train.loc[(train['Survived'] == 0),'Fare'] \n",
    "#ax=sns.kdeplot(train_df.loc[(train_df['Survived']==0),'Age'])"
   ]
  },
  {
   "cell_type": "code",
   "execution_count": null,
   "metadata": {},
   "outputs": [],
   "source": [
    "ax2=sns.kdeplot(train_df.loc[(train_df['Survived']==1) & (train_df['Pclass']==1),'Fare'],shade=True,color='r', label='Class1')\n",
    "ax2=sns.kdeplot(train_df.loc[(train_df['Survived']==1) & (train_df['Pclass']==2),'Fare'],shade=True,color='g', label='Class2')\n",
    "ax2=sns.kdeplot(train_df.loc[(train_df['Survived']==1) & (train_df['Pclass']==3),'Fare'],shade=True,color='b', label='Class3')"
   ]
  },
  {
   "cell_type": "markdown",
   "metadata": {},
   "source": [
    "Seems like there is a good correlation between Fare and the Survival.\n",
    "\n",
    "People those were aboard with the greater price, survived more."
   ]
  },
  {
   "cell_type": "markdown",
   "metadata": {},
   "source": [
    "## Now let's look at the Names and survivals"
   ]
  },
  {
   "cell_type": "markdown",
   "metadata": {},
   "source": [
    "As discussed we will try to extract the Titles from the Name Field for our further analysis."
   ]
  },
  {
   "cell_type": "code",
   "execution_count": null,
   "metadata": {},
   "outputs": [],
   "source": [
    "train_df['Name']"
   ]
  },
  {
   "cell_type": "code",
   "execution_count": null,
   "metadata": {},
   "outputs": [],
   "source": [
    "train_df['Title']=train_df['Name'].str.extract(pat= ' ([A-Za-z]+)\\.')\n",
    "\n",
    "## Here we tried to extract words that end with FullStop"
   ]
  },
  {
   "cell_type": "code",
   "execution_count": null,
   "metadata": {},
   "outputs": [],
   "source": [
    "train_df[['Title','Survived']].groupby(['Title'], as_index=False).sum().sort_values(by='Survived',ascending=False)"
   ]
  },
  {
   "cell_type": "code",
   "execution_count": null,
   "metadata": {},
   "outputs": [],
   "source": [
    "train_df['Title'].value_counts()"
   ]
  },
  {
   "cell_type": "code",
   "execution_count": null,
   "metadata": {},
   "outputs": [],
   "source": [
    "train_df[['Title','Survived']].groupby(['Title'], as_index=False).mean().sort_values(by='Survived',ascending=False)"
   ]
  },
  {
   "cell_type": "code",
   "execution_count": null,
   "metadata": {},
   "outputs": [],
   "source": [
    "train_df[['Title','Age']].groupby(['Title'], as_index=False).mean().sort_values(by='Age',ascending=False)"
   ]
  },
  {
   "cell_type": "code",
   "execution_count": null,
   "metadata": {},
   "outputs": [],
   "source": [
    "no_Age = pd.isnull(train_df['Age'])"
   ]
  },
  {
   "cell_type": "code",
   "execution_count": null,
   "metadata": {},
   "outputs": [],
   "source": [
    "no_age_df= train_df[no_Age]"
   ]
  },
  {
   "cell_type": "code",
   "execution_count": null,
   "metadata": {},
   "outputs": [],
   "source": [
    "train_df=train_df.dropna(subset=['Age'])\n"
   ]
  },
  {
   "cell_type": "markdown",
   "metadata": {},
   "source": [
    "Here we can see that only Ages of above Titles are been missed, So we will try to input the mean age of these Titles for these NaNs"
   ]
  },
  {
   "cell_type": "markdown",
   "metadata": {},
   "source": [
    "\n",
    "Dr\t42.000000\n",
    "\n",
    "Mrs\t35.898148\n",
    "\n",
    "Mr\t32.368090\n",
    "\n",
    "Miss\t21.773973\n",
    "\n",
    "Master\t4.574167"
   ]
  },
  {
   "cell_type": "code",
   "execution_count": null,
   "metadata": {},
   "outputs": [],
   "source": [
    "A1=no_age_df['Title']=='Dr'\n",
    "A2=no_age_df['Title']=='Mrs'\n",
    "A3=no_age_df['Title']=='Mr'\n",
    "A4=no_age_df['Title']=='Miss'\n",
    "A5=no_age_df['Title']=='Master'\n",
    "\n",
    "\n",
    "no_age_df.loc[A1,'Age']=no_age_df.loc[A1,'Age'].fillna(value=42)\n",
    "no_age_df.loc[A2,'Age']=no_age_df.loc[A2,'Age'].fillna(value=35.89)\n",
    "no_age_df.loc[A3,'Age']=no_age_df.loc[A3,'Age'].fillna(value=32.4)\n",
    "no_age_df.loc[A4,'Age']=no_age_df.loc[A4,'Age'].fillna(value=21.8)\n",
    "no_age_df.loc[A5,'Age']=no_age_df.loc[A5,'Age'].fillna(value=4.6)\n"
   ]
  },
  {
   "cell_type": "code",
   "execution_count": null,
   "metadata": {},
   "outputs": [],
   "source": [
    "no_age_df.shape"
   ]
  },
  {
   "cell_type": "code",
   "execution_count": null,
   "metadata": {},
   "outputs": [],
   "source": [
    "train_df=train_df.append(no_age_df)"
   ]
  },
  {
   "cell_type": "markdown",
   "metadata": {},
   "source": [
    "## Embarked and Survival"
   ]
  },
  {
   "cell_type": "code",
   "execution_count": null,
   "metadata": {},
   "outputs": [],
   "source": [
    "pal={0: \"red\", 1: \"green\"}\n",
    "ax = sns.countplot(x = \"Embarked\", hue=\"Survived\", data = train_df, palette=pal)\n",
    "plt.title(\"Embarked & Survived vs Not-survived\")\n",
    "plt.xlabel(\"Embarkments\")\n",
    "plt.ylabel(\"Count of Passengers\")\n",
    "leg = ax.get_legend()\n",
    "leg.set_title(\"Survival\")\n",
    "legs = leg.texts\n",
    "legs[0].set_text(\"Not-Survived\")\n",
    "legs[1].set_text(\"Survived\")\n",
    "plt.show()"
   ]
  },
  {
   "cell_type": "code",
   "execution_count": null,
   "metadata": {},
   "outputs": [],
   "source": [
    "grid = sns.FacetGrid(train_df, row='Embarked', height=2.2, aspect=1.6)\n",
    "grid.map(sns.pointplot, 'Pclass', 'Survived', 'Sex', palette='deep')\n",
    "grid.add_legend()"
   ]
  },
  {
   "cell_type": "code",
   "execution_count": null,
   "metadata": {},
   "outputs": [],
   "source": []
  },
  {
   "cell_type": "code",
   "execution_count": null,
   "metadata": {},
   "outputs": [],
   "source": []
  },
  {
   "cell_type": "code",
   "execution_count": null,
   "metadata": {},
   "outputs": [],
   "source": []
  },
  {
   "cell_type": "code",
   "execution_count": null,
   "metadata": {},
   "outputs": [],
   "source": [
    "train_df=train_df.drop(['PassengerId','Name','Ticket','Cabin'],axis=1)\n"
   ]
  },
  {
   "cell_type": "markdown",
   "metadata": {},
   "source": [
    "Except at Embarkement C, at other places survivals of Female are more.\n"
   ]
  },
  {
   "cell_type": "code",
   "execution_count": null,
   "metadata": {},
   "outputs": [],
   "source": [
    "train_df['Title'] = train_df['Title'].replace(['Lady', 'Countess','Capt', 'Col','Don', 'Dr', 'Major', 'Rev', 'Sir', 'Jonkheer', 'Dona'], 'Rare')\n",
    "train_df['Title'] = train_df['Title'].replace('Mlle', 'Miss')\n",
    "train_df['Title'] = train_df['Title'].replace('Ms', 'Miss')\n",
    "train_df['Title'] = train_df['Title'].replace('Mme', 'Mrs')\n",
    "    \n",
    "train_df[['Title', 'Survived']].groupby(['Title'], as_index=False).mean()"
   ]
  },
  {
   "cell_type": "code",
   "execution_count": null,
   "metadata": {},
   "outputs": [],
   "source": []
  },
  {
   "cell_type": "code",
   "execution_count": null,
   "metadata": {},
   "outputs": [],
   "source": [
    "train_df['IsAlone'] = 0\n",
    "train_df.loc[train_df['Total_Family_Members'] == 1, 'IsAlone'] = 1\n",
    "\n",
    "train_df[['IsAlone', 'Survived']].groupby(['IsAlone'], as_index=False).mean()"
   ]
  },
  {
   "cell_type": "code",
   "execution_count": null,
   "metadata": {},
   "outputs": [],
   "source": [
    "train_df = train_df.drop(['Parch', 'SibSp'], axis=1)"
   ]
  },
  {
   "cell_type": "code",
   "execution_count": null,
   "metadata": {},
   "outputs": [],
   "source": [
    "train_df['Embarked'] = train_df['Embarked'].fillna('S')"
   ]
  },
  {
   "cell_type": "code",
   "execution_count": null,
   "metadata": {},
   "outputs": [],
   "source": []
  },
  {
   "cell_type": "code",
   "execution_count": null,
   "metadata": {},
   "outputs": [],
   "source": [
    "test_df['Fare'].fillna(test_df['Fare'].dropna().median(), inplace=True)"
   ]
  },
  {
   "cell_type": "code",
   "execution_count": null,
   "metadata": {},
   "outputs": [],
   "source": [
    "train_df['FareBand'] = pd.qcut(train_df['Fare'], 4)\n",
    "train_df[['FareBand', 'Survived']].groupby(['FareBand'], as_index=False).mean().sort_values(by='FareBand', ascending=True)"
   ]
  },
  {
   "cell_type": "code",
   "execution_count": null,
   "metadata": {},
   "outputs": [],
   "source": [
    "\n",
    "    train_df.loc[ train_df['Fare'] <= 7.91, 'Fare'] = 0\n",
    "    train_df.loc[(train_df['Fare'] > 7.91) & (train_df['Fare'] <= 14.454), 'Fare'] = 1\n",
    "    train_df.loc[(train_df['Fare'] > 14.454) & (train_df['Fare'] <= 31), 'Fare']   = 2\n",
    "    train_df.loc[ train_df['Fare'] > 31, 'Fare'] = 3\n",
    "    train_df['Fare'] = train_df['Fare'].astype(int)\n",
    "\n",
    "train_df = train_df.drop(['FareBand'], axis=1)\n",
    "\n",
    "train_df.head(10)"
   ]
  },
  {
   "cell_type": "code",
   "execution_count": null,
   "metadata": {},
   "outputs": [],
   "source": [
    "train_df[['Total_Family_Members', 'Survived']].groupby(['Total_Family_Members'], as_index=False).mean().sort_values(by='Total_Family_Members', ascending=True)"
   ]
  },
  {
   "cell_type": "code",
   "execution_count": null,
   "metadata": {},
   "outputs": [],
   "source": [
    "train_df['Total_Family_Members']=train_df['Total_Family_Members'].astype(str)\n",
    "FamMapping = { \"1\": 'Loner', \"2\": 'Small', \"3\": 'Small', \"4\": 'Small',\"5\": 'Large',\"6\": 'Large',\"7\": 'Very Large',\"10\": 'Very Large'}\n",
    "train_df['Total_Family_Members'] = train_df['Total_Family_Members'].map(FamMapping)\n",
    "\n",
    "train_df.head(10)"
   ]
  },
  {
   "cell_type": "code",
   "execution_count": null,
   "metadata": {},
   "outputs": [],
   "source": []
  },
  {
   "cell_type": "code",
   "execution_count": null,
   "metadata": {},
   "outputs": [],
   "source": [
    "train_df"
   ]
  },
  {
   "cell_type": "code",
   "execution_count": null,
   "metadata": {},
   "outputs": [],
   "source": [
    "train = pd.get_dummies(train_df, columns=['Pclass','Sex','Embarked', 'Total_Family_Members', 'Title'], drop_first=False)"
   ]
  },
  {
   "cell_type": "code",
   "execution_count": null,
   "metadata": {},
   "outputs": [],
   "source": [
    "train"
   ]
  },
  {
   "cell_type": "code",
   "execution_count": null,
   "metadata": {},
   "outputs": [],
   "source": [
    "pd.DataFrame(abs(train.corr()['Survived']).sort_values(ascending = False))"
   ]
  },
  {
   "cell_type": "code",
   "execution_count": null,
   "metadata": {},
   "outputs": [],
   "source": [
    "\n",
    "X = train.drop(['Survived'], axis = 1)\n",
    "y = train[\"Survived\"]"
   ]
  },
  {
   "cell_type": "code",
   "execution_count": null,
   "metadata": {},
   "outputs": [],
   "source": [
    "from sklearn.model_selection import train_test_split\n",
    "X_train, X_test, y_train, y_test = train_test_split(X, y,test_size = .33, random_state=0)"
   ]
  },
  {
   "cell_type": "code",
   "execution_count": null,
   "metadata": {},
   "outputs": [],
   "source": [
    "len(X_train)"
   ]
  },
  {
   "cell_type": "code",
   "execution_count": null,
   "metadata": {},
   "outputs": [],
   "source": [
    "len(X_test)"
   ]
  },
  {
   "cell_type": "code",
   "execution_count": null,
   "metadata": {},
   "outputs": [],
   "source": [
    "headers = X_train.columns \n",
    "\n",
    "\n",
    "from sklearn.preprocessing import StandardScaler\n",
    "st_scale = StandardScaler()\n",
    "\n",
    "\n",
    "X_train = st_scale.fit_transform(X_train)\n",
    "\n",
    "X_test = st_scale.transform(X_test)\n"
   ]
  },
  {
   "cell_type": "code",
   "execution_count": null,
   "metadata": {},
   "outputs": [],
   "source": [
    "pd.DataFrame(X_train).head()"
   ]
  },
  {
   "cell_type": "code",
   "execution_count": null,
   "metadata": {},
   "outputs": [],
   "source": [
    "\n",
    "from sklearn.linear_model import LogisticRegression\n",
    "from sklearn.metrics import mean_absolute_error, accuracy_score\n",
    "\n",
    "\n",
    "logreg = LogisticRegression(solver='liblinear',\n",
    "                            penalty= 'l1',random_state = 42   \n",
    "                            )\n",
    "\n",
    "logreg.fit(X_train,y_train)\n",
    "\n",
    "y_pred = logreg.predict(X_test)\n"
   ]
  },
  {
   "cell_type": "code",
   "execution_count": null,
   "metadata": {},
   "outputs": [],
   "source": [
    "from sklearn.metrics import classification_report, confusion_matrix\n",
    "\n",
    "pd.DataFrame(confusion_matrix(y_test,y_pred),\\\n",
    "            columns=[\"Predicted Not-Survived\", \"Predicted Survived\"],\\\n",
    "            index=[\"Not-Survived\",\"Survived\"] )"
   ]
  },
  {
   "cell_type": "code",
   "execution_count": null,
   "metadata": {},
   "outputs": [],
   "source": [
    "from sklearn.metrics import accuracy_score\n",
    "accuracy_score(y_test, y_pred)"
   ]
  },
  {
   "cell_type": "markdown",
   "metadata": {},
   "source": [
    "https://towardsdatascience.com/understanding-data-science-classification-metrics-in-scikit-learn-in-python-3bc336865019\n",
    "\n",
    "Go through above article for clear details on sklearn metrics."
   ]
  },
  {
   "cell_type": "code",
   "execution_count": null,
   "metadata": {},
   "outputs": [],
   "source": [
    "from sklearn.metrics import recall_score\n",
    "recall_score(y_test, y_pred)"
   ]
  },
  {
   "cell_type": "code",
   "execution_count": null,
   "metadata": {},
   "outputs": [],
   "source": [
    "from sklearn.metrics import precision_score\n",
    "precision_score(y_test, y_pred)"
   ]
  },
  {
   "cell_type": "code",
   "execution_count": null,
   "metadata": {},
   "outputs": [],
   "source": [
    "\n",
    "from sklearn.svm import SVC, LinearSVC\n",
    "from sklearn.ensemble import RandomForestClassifier\n",
    "from sklearn.neighbors import KNeighborsClassifier\n",
    "from sklearn.naive_bayes import GaussianNB\n",
    "from sklearn.linear_model import Perceptron\n",
    "from sklearn.linear_model import SGDClassifier\n",
    "from sklearn.tree import DecisionTreeClassifier"
   ]
  },
  {
   "cell_type": "code",
   "execution_count": null,
   "metadata": {},
   "outputs": [],
   "source": [
    "# Support Vector Machines\n",
    "\n",
    "svc = SVC()\n",
    "svc.fit(X_train, y_train)\n",
    "Y_pred = svc.predict(X_test)\n",
    "acc_svc = round(svc.score(X_train, y_train) * 100, 2)\n",
    "acc_svc"
   ]
  },
  {
   "cell_type": "code",
   "execution_count": null,
   "metadata": {},
   "outputs": [],
   "source": [
    "knn = KNeighborsClassifier(n_neighbors = 3)\n",
    "knn.fit(X_train, y_train)\n",
    "Y_pred = knn.predict(X_test)\n",
    "acc_knn = round(knn.score(X_train, y_train) * 100, 2)\n",
    "acc_knn"
   ]
  },
  {
   "cell_type": "code",
   "execution_count": null,
   "metadata": {},
   "outputs": [],
   "source": [
    "gaussian = GaussianNB()\n",
    "gaussian.fit(X_train, y_train)\n",
    "Y_pred = gaussian.predict(X_test)\n",
    "acc_gaussian = round(gaussian.score(X_train, y_train) * 100, 2)\n",
    "acc_gaussian"
   ]
  },
  {
   "cell_type": "code",
   "execution_count": null,
   "metadata": {},
   "outputs": [],
   "source": [
    "\n",
    "perceptron = Perceptron()\n",
    "perceptron.fit(X_train, y_train)\n",
    "Y_pred = perceptron.predict(X_test)\n",
    "acc_perceptron = round(perceptron.score(X_train, y_train) * 100, 2)\n",
    "acc_perceptron"
   ]
  },
  {
   "cell_type": "code",
   "execution_count": null,
   "metadata": {},
   "outputs": [],
   "source": [
    "# Linear SVC\n",
    "\n",
    "linear_svc = LinearSVC()\n",
    "linear_svc.fit(X_train, y_train)\n",
    "Y_pred = linear_svc.predict(X_test)\n",
    "acc_linear_svc = round(linear_svc.score(X_train, y_train) * 100, 2)\n",
    "acc_linear_svc"
   ]
  },
  {
   "cell_type": "code",
   "execution_count": null,
   "metadata": {},
   "outputs": [],
   "source": [
    "\n",
    "sgd = SGDClassifier()\n",
    "sgd.fit(X_train, y_train)\n",
    "Y_pred = sgd.predict(X_test)\n",
    "acc_sgd = round(sgd.score(X_train, y_train) * 100, 2)\n",
    "acc_sgd"
   ]
  },
  {
   "cell_type": "code",
   "execution_count": null,
   "metadata": {},
   "outputs": [],
   "source": [
    "\n",
    "decision_tree = DecisionTreeClassifier()\n",
    "decision_tree.fit(X_train, y_train)\n",
    "Y_pred = decision_tree.predict(X_test)\n",
    "acc_decision_tree = round(decision_tree.score(X_train, y_train) * 100, 2)\n",
    "acc_decision_tree"
   ]
  },
  {
   "cell_type": "code",
   "execution_count": null,
   "metadata": {},
   "outputs": [],
   "source": [
    "# Random Forest\n",
    "\n",
    "random_forest = RandomForestClassifier(n_estimators=100)\n",
    "random_forest.fit(X_train, y_train)\n",
    "Y_pred = random_forest.predict(X_test)\n",
    "random_forest.score(X_train, y_train)\n",
    "acc_random_forest = round(random_forest.score(X_train, y_train) * 100, 2)\n",
    "acc_random_forest"
   ]
  },
  {
   "cell_type": "markdown",
   "metadata": {},
   "source": [
    "Let's take the test data and preprocess it for predition"
   ]
  },
  {
   "cell_type": "code",
   "execution_count": null,
   "metadata": {},
   "outputs": [],
   "source": []
  },
  {
   "cell_type": "code",
   "execution_count": null,
   "metadata": {},
   "outputs": [],
   "source": [
    "submission = pd.DataFrame({\"PassengerId\": test_df[\"PassengerId\"], \"Survived\": Y_pred})\n",
    "submission.to_csv('../output/submission.csv', index=False)"
   ]
  },
  {
   "cell_type": "code",
   "execution_count": null,
   "metadata": {},
   "outputs": [],
   "source": [
    "test_df=pd.read_csv('test.csv')\n",
    "\n"
   ]
  },
  {
   "cell_type": "code",
   "execution_count": null,
   "metadata": {},
   "outputs": [],
   "source": [
    "test_df['Title']=test_df['Name'].str.extract(pat= ' ([A-Za-z]+)\\.')\n"
   ]
  },
  {
   "cell_type": "code",
   "execution_count": null,
   "metadata": {},
   "outputs": [],
   "source": [
    "test_df[['Title','Age']].groupby(['Title'], as_index=False).mean().sort_values(by='Age',ascending=False)"
   ]
  },
  {
   "cell_type": "code",
   "execution_count": null,
   "metadata": {},
   "outputs": [],
   "source": [
    "no_Age2 = pd.isnull(test_df['Age'])\n",
    "no_age_df2= test_df[no_Age]\n",
    "test_df=test_df.dropna(subset=['Age'])\n"
   ]
  },
  {
   "cell_type": "code",
   "execution_count": null,
   "metadata": {},
   "outputs": [],
   "source": [
    "A11=no_age_df['Title']=='Dr'\n",
    "A21=no_age_df['Title']=='Mrs'\n",
    "A31=no_age_df['Title']=='Mr'\n",
    "A41=no_age_df['Title']=='Miss'\n",
    "A51=no_age_df['Title']=='Master'"
   ]
  },
  {
   "cell_type": "code",
   "execution_count": null,
   "metadata": {},
   "outputs": [],
   "source": [
    "no_age_df.loc[A1,'Age']=no_age_df.loc[A1,'Age'].fillna(value=42)\n",
    "no_age_df.loc[A2,'Age']=no_age_df.loc[A2,'Age'].fillna(value=35.89)\n",
    "no_age_df.loc[A3,'Age']=no_age_df.loc[A3,'Age'].fillna(value=32.4)\n",
    "no_age_df.loc[A4,'Age']=no_age_df.loc[A4,'Age'].fillna(value=21.8)\n",
    "no_age_df.loc[A5,'Age']=no_age_df.loc[A5,'Age'].fillna(value=4.6)"
   ]
  },
  {
   "cell_type": "code",
   "execution_count": null,
   "metadata": {},
   "outputs": [],
   "source": [
    "test_df.describe(include='all')"
   ]
  },
  {
   "cell_type": "code",
   "execution_count": null,
   "metadata": {},
   "outputs": [],
   "source": [
    "X_train = train_df.drop(\"Survived\", axis=1)\n",
    "Y_train = train_df[\"Survived\"]\n",
    "\n",
    "\n",
    "X_test  = test_df.drop(\"PassengerId\", axis=1).copy()\n",
    "X_train.shape, Y_train.shape, X_test.shape"
   ]
  }
 ],
 "metadata": {
  "kernelspec": {
   "display_name": "Python 3",
   "language": "python",
   "name": "python3"
  },
  "language_info": {
   "codemirror_mode": {
    "name": "ipython",
    "version": 3
   },
   "file_extension": ".py",
   "mimetype": "text/x-python",
   "name": "python",
   "nbconvert_exporter": "python",
   "pygments_lexer": "ipython3",
   "version": "3.7.7"
  }
 },
 "nbformat": 4,
 "nbformat_minor": 4
}
